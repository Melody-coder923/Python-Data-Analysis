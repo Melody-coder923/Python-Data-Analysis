{
 "cells": [
  {
   "cell_type": "markdown",
   "metadata": {},
   "source": [
    "🚩Assignment1- Part 1"
   ]
  },
  {
   "cell_type": "code",
   "execution_count": 1,
   "metadata": {},
   "outputs": [
    {
     "name": "stdout",
     "output_type": "stream",
     "text": [
      "Requirement already satisfied: yfinance in c:\\programdata\\anaconda3\\lib\\site-packages (0.2.52)\n",
      "Requirement already satisfied: pandas>=1.3.0 in c:\\programdata\\anaconda3\\lib\\site-packages (from yfinance) (2.2.2)\n",
      "Requirement already satisfied: numpy>=1.16.5 in c:\\programdata\\anaconda3\\lib\\site-packages (from yfinance) (1.26.4)\n",
      "Requirement already satisfied: requests>=2.31 in c:\\programdata\\anaconda3\\lib\\site-packages (from yfinance) (2.32.3)\n",
      "Requirement already satisfied: multitasking>=0.0.7 in c:\\programdata\\anaconda3\\lib\\site-packages (from yfinance) (0.0.11)\n",
      "Requirement already satisfied: lxml>=4.9.1 in c:\\programdata\\anaconda3\\lib\\site-packages (from yfinance) (5.2.1)\n",
      "Requirement already satisfied: platformdirs>=2.0.0 in c:\\programdata\\anaconda3\\lib\\site-packages (from yfinance) (3.10.0)\n",
      "Requirement already satisfied: pytz>=2022.5 in c:\\programdata\\anaconda3\\lib\\site-packages (from yfinance) (2024.1)\n",
      "Requirement already satisfied: frozendict>=2.3.4 in c:\\programdata\\anaconda3\\lib\\site-packages (from yfinance) (2.4.2)\n",
      "Requirement already satisfied: peewee>=3.16.2 in c:\\programdata\\anaconda3\\lib\\site-packages (from yfinance) (3.17.8)\n",
      "Requirement already satisfied: beautifulsoup4>=4.11.1 in c:\\programdata\\anaconda3\\lib\\site-packages (from yfinance) (4.12.3)\n",
      "Requirement already satisfied: html5lib>=1.1 in c:\\programdata\\anaconda3\\lib\\site-packages (from yfinance) (1.1)\n",
      "Requirement already satisfied: soupsieve>1.2 in c:\\programdata\\anaconda3\\lib\\site-packages (from beautifulsoup4>=4.11.1->yfinance) (2.5)\n",
      "Requirement already satisfied: six>=1.9 in c:\\programdata\\anaconda3\\lib\\site-packages (from html5lib>=1.1->yfinance) (1.16.0)\n",
      "Requirement already satisfied: webencodings in c:\\programdata\\anaconda3\\lib\\site-packages (from html5lib>=1.1->yfinance) (0.5.1)\n",
      "Requirement already satisfied: python-dateutil>=2.8.2 in c:\\programdata\\anaconda3\\lib\\site-packages (from pandas>=1.3.0->yfinance) (2.9.0.post0)\n",
      "Requirement already satisfied: tzdata>=2022.7 in c:\\programdata\\anaconda3\\lib\\site-packages (from pandas>=1.3.0->yfinance) (2023.3)\n",
      "Requirement already satisfied: charset-normalizer<4,>=2 in c:\\programdata\\anaconda3\\lib\\site-packages (from requests>=2.31->yfinance) (3.3.2)\n",
      "Requirement already satisfied: idna<4,>=2.5 in c:\\programdata\\anaconda3\\lib\\site-packages (from requests>=2.31->yfinance) (3.7)\n",
      "Requirement already satisfied: urllib3<3,>=1.21.1 in c:\\programdata\\anaconda3\\lib\\site-packages (from requests>=2.31->yfinance) (2.2.3)\n",
      "Requirement already satisfied: certifi>=2017.4.17 in c:\\programdata\\anaconda3\\lib\\site-packages (from requests>=2.31->yfinance) (2024.8.30)\n",
      "Note: you may need to restart the kernel to use updated packages.\n"
     ]
    }
   ],
   "source": [
    "#install Yahoo finance package\n",
    "%pip install yfinance"
   ]
  },
  {
   "cell_type": "code",
   "execution_count": 2,
   "metadata": {},
   "outputs": [],
   "source": [
    "#import Yahoo finance package\n",
    "import yfinance as yf"
   ]
  },
  {
   "cell_type": "code",
   "execution_count": 3,
   "metadata": {},
   "outputs": [
    {
     "name": "stderr",
     "output_type": "stream",
     "text": [
      "[*********************100%***********************]  1 of 1 completed"
     ]
    },
    {
     "name": "stdout",
     "output_type": "stream",
     "text": [
      "(5, 5)\n"
     ]
    },
    {
     "name": "stderr",
     "output_type": "stream",
     "text": [
      "\n"
     ]
    }
   ],
   "source": [
    "#download the last 5 days of stock price data for Apple Inc. (AAPL)\n",
    "#day:d, week:wk, month:mo, year:y, year to now: ytd, all:max\n",
    "apple_5days_data = yf.download('AAPL',period = '5d')\n",
    "#The shape attribute is called to inspect the structure of the data\n",
    "#and Quickly understand the structure of the data.\n",
    "print(apple_5days_data.shape)"
   ]
  },
  {
   "cell_type": "code",
   "execution_count": 4,
   "metadata": {},
   "outputs": [
    {
     "data": {
      "text/html": [
       "<div>\n",
       "<style scoped>\n",
       "    .dataframe tbody tr th:only-of-type {\n",
       "        vertical-align: middle;\n",
       "    }\n",
       "\n",
       "    .dataframe tbody tr th {\n",
       "        vertical-align: top;\n",
       "    }\n",
       "\n",
       "    .dataframe thead tr th {\n",
       "        text-align: left;\n",
       "    }\n",
       "\n",
       "    .dataframe thead tr:last-of-type th {\n",
       "        text-align: right;\n",
       "    }\n",
       "</style>\n",
       "<table border=\"1\" class=\"dataframe\">\n",
       "  <thead>\n",
       "    <tr>\n",
       "      <th>Price</th>\n",
       "      <th>Close</th>\n",
       "      <th>High</th>\n",
       "      <th>Low</th>\n",
       "      <th>Open</th>\n",
       "      <th>Volume</th>\n",
       "    </tr>\n",
       "    <tr>\n",
       "      <th>Ticker</th>\n",
       "      <th>AAPL</th>\n",
       "      <th>AAPL</th>\n",
       "      <th>AAPL</th>\n",
       "      <th>AAPL</th>\n",
       "      <th>AAPL</th>\n",
       "    </tr>\n",
       "    <tr>\n",
       "      <th>Date</th>\n",
       "      <th></th>\n",
       "      <th></th>\n",
       "      <th></th>\n",
       "      <th></th>\n",
       "      <th></th>\n",
       "    </tr>\n",
       "  </thead>\n",
       "  <tbody>\n",
       "    <tr>\n",
       "      <th>2025-01-21</th>\n",
       "      <td>222.639999</td>\n",
       "      <td>224.419998</td>\n",
       "      <td>219.380005</td>\n",
       "      <td>224.000000</td>\n",
       "      <td>98070400</td>\n",
       "    </tr>\n",
       "    <tr>\n",
       "      <th>2025-01-22</th>\n",
       "      <td>223.830002</td>\n",
       "      <td>224.119995</td>\n",
       "      <td>219.789993</td>\n",
       "      <td>219.789993</td>\n",
       "      <td>64126500</td>\n",
       "    </tr>\n",
       "    <tr>\n",
       "      <th>2025-01-23</th>\n",
       "      <td>223.660004</td>\n",
       "      <td>227.029999</td>\n",
       "      <td>222.300003</td>\n",
       "      <td>224.740005</td>\n",
       "      <td>60234800</td>\n",
       "    </tr>\n",
       "    <tr>\n",
       "      <th>2025-01-24</th>\n",
       "      <td>222.779999</td>\n",
       "      <td>225.630005</td>\n",
       "      <td>221.410004</td>\n",
       "      <td>224.779999</td>\n",
       "      <td>54619500</td>\n",
       "    </tr>\n",
       "    <tr>\n",
       "      <th>2025-01-27</th>\n",
       "      <td>229.860001</td>\n",
       "      <td>232.149994</td>\n",
       "      <td>224.000000</td>\n",
       "      <td>224.029999</td>\n",
       "      <td>94132139</td>\n",
       "    </tr>\n",
       "  </tbody>\n",
       "</table>\n",
       "</div>"
      ],
      "text/plain": [
       "Price            Close        High         Low        Open    Volume\n",
       "Ticker            AAPL        AAPL        AAPL        AAPL      AAPL\n",
       "Date                                                                \n",
       "2025-01-21  222.639999  224.419998  219.380005  224.000000  98070400\n",
       "2025-01-22  223.830002  224.119995  219.789993  219.789993  64126500\n",
       "2025-01-23  223.660004  227.029999  222.300003  224.740005  60234800\n",
       "2025-01-24  222.779999  225.630005  221.410004  224.779999  54619500\n",
       "2025-01-27  229.860001  232.149994  224.000000  224.029999  94132139"
      ]
     },
     "execution_count": 4,
     "metadata": {},
     "output_type": "execute_result"
    }
   ],
   "source": [
    "#Quickly browse the beginning part of the data to \n",
    "#get a preliminary understanding of its content and format.\n",
    "apple_5days_data.head(5)"
   ]
  },
  {
   "cell_type": "code",
   "execution_count": 5,
   "metadata": {},
   "outputs": [],
   "source": [
    "#get the last day data, \n",
    "#or to use tail(1) or iloc[-1:] return DataFrame, iloc[-1] return Series\n",
    "last_day_data = apple_5days_data.iloc[-1]"
   ]
  },
  {
   "cell_type": "code",
   "execution_count": 6,
   "metadata": {},
   "outputs": [
    {
     "name": "stderr",
     "output_type": "stream",
     "text": [
      "C:\\Users\\lovec\\AppData\\Local\\Temp\\ipykernel_27212\\1679586231.py:9: FutureWarning: Calling float on a single element Series is deprecated and will raise a TypeError in the future. Use float(ser.iloc[0]) instead\n",
      "  open_price = float(last_day_data['Open'])\n",
      "C:\\Users\\lovec\\AppData\\Local\\Temp\\ipykernel_27212\\1679586231.py:11: FutureWarning: Calling float on a single element Series is deprecated and will raise a TypeError in the future. Use float(ser.iloc[0]) instead\n",
      "  close_price = float(last_day_data['Close'])\n",
      "C:\\Users\\lovec\\AppData\\Local\\Temp\\ipykernel_27212\\1679586231.py:13: FutureWarning: Calling float on a single element Series is deprecated and will raise a TypeError in the future. Use float(ser.iloc[0]) instead\n",
      "  high_price = float(last_day_data['High'])\n",
      "C:\\Users\\lovec\\AppData\\Local\\Temp\\ipykernel_27212\\1679586231.py:15: FutureWarning: Calling float on a single element Series is deprecated and will raise a TypeError in the future. Use float(ser.iloc[0]) instead\n",
      "  low_price = float(last_day_data['Low'])\n",
      "C:\\Users\\lovec\\AppData\\Local\\Temp\\ipykernel_27212\\1679586231.py:17: FutureWarning: Calling int on a single element Series is deprecated and will raise a TypeError in the future. Use int(ser.iloc[0]) instead\n",
      "  volume = int(last_day_data['Volume'])\n"
     ]
    }
   ],
   "source": [
    "\"\"\"Store each piece of data (open, close, high, low, volume)\n",
    "for the last day \n",
    "in variables of appropriate types (e.g., float, integer)\n",
    "📍If using tail(1) results in an error because the data structure cannot be printed as a number, \n",
    "it needs to be converted to a Series or an array.\n",
    "Solution: change DataFrame into String: df.astype(str) or use iloc[-1] in last cell\n",
    "Format to retain six decimal places as consistent with the original.格式化保留小数点后6位与原文一致\n",
    "\"\"\"\n",
    "open_price = float(last_day_data['Open'])\n",
    "formatted_open_price=f\"{open_price:.6f}\"\n",
    "close_price = float(last_day_data['Close']) \n",
    "formatted_close_price=f\"{close_price:.6f}\"\n",
    "high_price = float(last_day_data['High']) \n",
    "formatted_high_price=f\"{high_price:.6f}\"\n",
    "low_price = float(last_day_data['Low']) \n",
    "formatted_low_price=f\"{low_price:.6f}\"\n",
    "volume = int(last_day_data['Volume']) "
   ]
  },
  {
   "cell_type": "code",
   "execution_count": 7,
   "metadata": {},
   "outputs": [
    {
     "name": "stdout",
     "output_type": "stream",
     "text": [
      "Open: 224.029999\n",
      "Close: 229.860001\n",
      "High: 232.149994\n",
      "Low: 224.000000\n",
      "Volume: 94132139\n"
     ]
    }
   ],
   "source": [
    "#Print the values of the variables\n",
    "print(f\"Open: {formatted_open_price}\")\n",
    "print(f\"Close: {formatted_close_price}\")\n",
    "print(f\"High: {formatted_high_price}\")\n",
    "print(f\"Low: {formatted_low_price}\")\n",
    "print(f\"Volume: {volume}\")"
   ]
  },
  {
   "cell_type": "markdown",
   "metadata": {},
   "source": [
    "🚩Assignment 1- Part 2"
   ]
  },
  {
   "cell_type": "markdown",
   "metadata": {},
   "source": [
    "1.Price Difference: Calculate the difference between the opening and closing prices of the last day. Store this difference in a float variable called price_diff."
   ]
  },
  {
   "cell_type": "code",
   "execution_count": 8,
   "metadata": {},
   "outputs": [
    {
     "name": "stdout",
     "output_type": "stream",
     "text": [
      "Difference:-5.830002\n"
     ]
    }
   ],
   "source": [
    "price_diff=f\"{(open_price-close_price):.6f}\"\n",
    "print(f\"Difference:{price_diff}\")"
   ]
  },
  {
   "cell_type": "markdown",
   "metadata": {},
   "source": [
    "2.Price Direction: Create a boolean variable price_up that stores True if the closing price is higher than the opening price, and False otherwise."
   ]
  },
  {
   "cell_type": "code",
   "execution_count": 20,
   "metadata": {},
   "outputs": [
    {
     "name": "stdout",
     "output_type": "stream",
     "text": [
      "Price went up:  False\n"
     ]
    }
   ],
   "source": [
    "price_up = close_price>open_price\n",
    "print(\"Price went up: \", price_up)"
   ]
  },
  {
   "cell_type": "markdown",
   "metadata": {},
   "source": [
    "3.Price Threshold Check: Create a variable is_price_above_150 which should store a boolean value indicating whether the closing price of the last day is above $150 or not."
   ]
  },
  {
   "cell_type": "code",
   "execution_count": 9,
   "metadata": {},
   "outputs": [
    {
     "name": "stdout",
     "output_type": "stream",
     "text": [
      "The closing price is above $150:  True\n"
     ]
    }
   ],
   "source": [
    "is_price_above_150=close_price>150\n",
    "print(\"The closing price is above $150: \", is_price_above_150)"
   ]
  },
  {
   "cell_type": "markdown",
   "metadata": {},
   "source": [
    "4.NoneType Variable: Initialize a variable threshold_reason to None. If the stock’s closing price is below $150, set threshold_reason to a string saying \"Price below threshold.\" Otherwise, leave it as None."
   ]
  },
  {
   "cell_type": "code",
   "execution_count": 10,
   "metadata": {},
   "outputs": [
    {
     "name": "stdout",
     "output_type": "stream",
     "text": [
      "Threshhold Reason:  None\n"
     ]
    }
   ],
   "source": [
    "threshold_reason=None\n",
    "if close_price<150:\n",
    "    threshold_reason=\"Price below threshold\"\n",
    "print(\"Threshhold Reason: \", threshold_reason)"
   ]
  },
  {
   "cell_type": "markdown",
   "metadata": {},
   "source": [
    "🚩Assignment 1- Part 3"
   ]
  },
  {
   "cell_type": "markdown",
   "metadata": {},
   "source": [
    "1.Stock Date: Retrieve the date of the last available trading day from the dataset and store it as a string."
   ]
  },
  {
   "cell_type": "code",
   "execution_count": 11,
   "metadata": {},
   "outputs": [
    {
     "name": "stdout",
     "output_type": "stream",
     "text": [
      "Last Trading Day:  2025-01-27\n"
     ]
    }
   ],
   "source": [
    "#提取最后一个交易日的日期Extract the date of the last trading day\n",
    "last_trading_date = apple_5days_data.index[-1]\n",
    "last_trading_date_str = last_trading_date.strftime(\"%Y-%m-%d\")\n",
    "print(\"Last Trading Day: \", last_trading_date_str)"
   ]
  },
  {
   "cell_type": "markdown",
   "metadata": {},
   "source": [
    "2.String Indexing: Use indexing to perform the following:\n",
    "○Print the first character of the date string (left-to-right indexing).\n",
    "○Print the last character of the date string (right-to-left indexing)."
   ]
  },
  {
   "cell_type": "code",
   "execution_count": 12,
   "metadata": {},
   "outputs": [
    {
     "name": "stdout",
     "output_type": "stream",
     "text": [
      "First character: 2\n",
      "Last character: 7\n"
     ]
    }
   ],
   "source": [
    "first_character=last_trading_date_str[0]\n",
    "print(\"First character:\", first_character)\n",
    "last_character=last_trading_date_str[-1]\n",
    "print(\"Last character:\", last_character)"
   ]
  },
  {
   "cell_type": "markdown",
   "metadata": {},
   "source": [
    "3.Substring Extraction: Extract and print the month (assuming the format YYYY-MM-DD) from the date string using slicing."
   ]
  },
  {
   "cell_type": "code",
   "execution_count": 15,
   "metadata": {},
   "outputs": [
    {
     "name": "stdout",
     "output_type": "stream",
     "text": [
      "Month:  01\n"
     ]
    }
   ],
   "source": [
    "month= last_trading_date_str[5:7]\n",
    "print(\"Month: \", month)"
   ]
  },
  {
   "cell_type": "markdown",
   "metadata": {},
   "source": [
    "4.Boolean Check on Substring: Create a boolean variable is_december that stores True if the extracted month is December (i.e., 12), and False otherwise."
   ]
  },
  {
   "cell_type": "code",
   "execution_count": 16,
   "metadata": {},
   "outputs": [
    {
     "name": "stdout",
     "output_type": "stream",
     "text": [
      "The extracted month is December:  False\n"
     ]
    }
   ],
   "source": [
    "is_december=month==12\n",
    "print(\"The extracted month is December: \", is_december)"
   ]
  }
 ],
 "metadata": {
  "kernelspec": {
   "display_name": "Python 3 (ipykernel)",
   "language": "python",
   "name": "python3"
  },
  "language_info": {
   "codemirror_mode": {
    "name": "ipython",
    "version": 3
   },
   "file_extension": ".py",
   "mimetype": "text/x-python",
   "name": "python",
   "nbconvert_exporter": "python",
   "pygments_lexer": "ipython3",
   "version": "3.12.7"
  }
 },
 "nbformat": 4,
 "nbformat_minor": 2
}
